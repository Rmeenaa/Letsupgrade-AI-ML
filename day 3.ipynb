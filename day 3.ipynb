{
 "cells": [
  {
   "cell_type": "markdown",
   "metadata": {},
   "source": [
    "Question 1: Write a program to subtract two complex numbers in Python"
   ]
  },
  {
   "cell_type": "code",
   "execution_count": 7,
   "metadata": {},
   "outputs": [
    {
     "name": "stdout",
     "output_type": "stream",
     "text": [
      "The substraction is: (2+2j)\n",
      "<class 'complex'>\n"
     ]
    }
   ],
   "source": [
    "a=8+6j\n",
    "b=6+4j\n",
    "c=a-b\n",
    "print(\"The substraction is:\",c)\n",
    "print(type(c))"
   ]
  },
  {
   "cell_type": "code",
   "execution_count": 8,
   "metadata": {},
   "outputs": [
    {
     "name": "stdin",
     "output_type": "stream",
     "text": [
      "Enter the complex Number: 3+2j\n",
      "Enter the Complex Number: 2+1j\n"
     ]
    },
    {
     "name": "stdout",
     "output_type": "stream",
     "text": [
      "The Substraction of value of complex No is: (1+1j)\n"
     ]
    }
   ],
   "source": [
    "a=complex(input(\"Enter the complex Number:\"))\n",
    "b=complex(input(\"Enter the Complex Number:\"))\n",
    "print(\"The Substraction of value of complex No is:\",a-b)"
   ]
  },
  {
   "cell_type": "markdown",
   "metadata": {},
   "source": [
    "Question 2: Write a program to find the fourth root of a number"
   ]
  },
  {
   "cell_type": "code",
   "execution_count": 2,
   "metadata": {},
   "outputs": [
    {
     "name": "stdin",
     "output_type": "stream",
     "text": [
      "enter the Number to find foruth root: 4\n"
     ]
    },
    {
     "name": "stdout",
     "output_type": "stream",
     "text": [
      "Fourth root number is: 256\n"
     ]
    }
   ],
   "source": [
    "x=int(input(\"enter the Number to find foruth root:\"))\n",
    "Value=x**4\n",
    "print(\"Fourth root number is:\",Value)"
   ]
  },
  {
   "cell_type": "markdown",
   "metadata": {},
   "source": [
    "Question 3: Write a program to swap two numbers in Python with the help of a temporary variable"
   ]
  },
  {
   "cell_type": "code",
   "execution_count": 10,
   "metadata": {},
   "outputs": [
    {
     "name": "stdout",
     "output_type": "stream",
     "text": [
      "Before Swap a= 2 b= 3\n",
      "After Swap a= 3 b= 2\n"
     ]
    }
   ],
   "source": [
    "a=2\n",
    "b=3\n",
    "print(\"Before Swap a=\",a,\"b=\",b)\n",
    "temp=a\n",
    "a=b\n",
    "b=temp\n",
    "print(\"After Swap a=\",a,\"b=\",b)"
   ]
  },
  {
   "cell_type": "markdown",
   "metadata": {},
   "source": [
    "Question 4:Write a program to swap two numbers in Python without using a temporary variable"
   ]
  },
  {
   "cell_type": "code",
   "execution_count": 6,
   "metadata": {},
   "outputs": [
    {
     "name": "stdin",
     "output_type": "stream",
     "text": [
      "Enter the Value: 55\n",
      "enter the Value: 33\n"
     ]
    },
    {
     "name": "stdout",
     "output_type": "stream",
     "text": [
      "Before swap value of a= 55 b= 33\n",
      "After swap value of a= 33 b= 55\n"
     ]
    }
   ],
   "source": [
    "a=int(input(\"Enter the Value:\"))\n",
    "b=int(input(\"enter the Value:\"))\n",
    "print(\"Before swap value of a=\",a,\"b=\",b)\n",
    "a,b=b,a\n",
    "print(\"After swap value of a=\",a,\"b=\",b)"
   ]
  },
  {
   "cell_type": "markdown",
   "metadata": {},
   "source": [
    "Question 5: Write a program to convert fahrenheit to kelvin and celsius both."
   ]
  },
  {
   "cell_type": "code",
   "execution_count": 11,
   "metadata": {},
   "outputs": [
    {
     "name": "stdin",
     "output_type": "stream",
     "text": [
      "Enter the farenheat value: 38\n"
     ]
    },
    {
     "name": "stdout",
     "output_type": "stream",
     "text": [
      "Kelvin is: 276.4833333333333\n",
      "Celcius is 3.3333333333333335\n"
     ]
    }
   ],
   "source": [
    "F=float(input(\"Enter the farenheat value:\"))\n",
    "K=(F-32)*5/9+273.15\n",
    "print(\"Kelvin is:\",K)\n",
    "C=(F-32)*5/9\n",
    "print(\"Celcius is\",C)"
   ]
  },
  {
   "cell_type": "markdown",
   "metadata": {},
   "source": [
    "Question 6:Write a program to demonstrate all the available data types in Python. Hint: Use type() function."
   ]
  },
  {
   "cell_type": "code",
   "execution_count": 17,
   "metadata": {},
   "outputs": [
    {
     "name": "stdout",
     "output_type": "stream",
     "text": [
      "Type of a <class 'int'>\n",
      "Type of b <class 'float'>\n",
      "Type of c <class 'complex'>\n",
      "Type of d <class 'str'>\n",
      "Type of x <class 'tuple'>\n",
      "Type of y <class 'list'>\n",
      "Type of z <class 'dict'>\n"
     ]
    }
   ],
   "source": [
    "a = 5\n",
    "b = 2.0\n",
    "c = 1+5j\n",
    "d = \"Hello all\"\n",
    "x = (1,2,3,5)\n",
    "y = [2,8,4,7]\n",
    "z = {'firstname':'tom','lastname':'tin'}\n",
    "print(\"Type of a\",type(a))\n",
    "print(\"Type of b\",type(b))\n",
    "print(\"Type of c\",type(c))\n",
    "print(\"Type of d\",type(d))\n",
    "print(\"Type of x\",type(x))\n",
    "print(\"Type of y\",type(y))\n",
    "print(\"Type of z\",type(z))"
   ]
  },
  {
   "cell_type": "markdown",
   "metadata": {},
   "source": [
    "Question 7:Create a Markdown cell in jupyter and list the steps discussed in the session by Dr. Darshan\n",
    "Ingle sir to create Github profile and upload Githubs Assignment link"
   ]
  },
  {
   "cell_type": "markdown",
   "metadata": {},
   "source": [
    "1.Create a Github public repo and name it LetsUpgrade AI/ML\n",
    "2.Upload the files/solution in the repo in day wise manner.\n",
    "3.Copy the URL of the Folder of that day and paste in the Assignment Submission Form"
   ]
  },
  {
   "cell_type": "code",
   "execution_count": null,
   "metadata": {},
   "outputs": [],
   "source": []
  }
 ],
 "metadata": {
  "kernelspec": {
   "display_name": "Python 3",
   "language": "python",
   "name": "python3"
  },
  "language_info": {
   "codemirror_mode": {
    "name": "ipython",
    "version": 3
   },
   "file_extension": ".py",
   "mimetype": "text/x-python",
   "name": "python",
   "nbconvert_exporter": "python",
   "pygments_lexer": "ipython3",
   "version": "3.7.6"
  }
 },
 "nbformat": 4,
 "nbformat_minor": 4
}
